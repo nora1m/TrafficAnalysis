{
 "cells": [
  {
   "cell_type": "markdown",
   "metadata": {},
   "source": [
    "# Project 1: Driving Licenses, Traffic Accidents and Casualties Analysis"
   ]
  },
  {
   "cell_type": "markdown",
   "metadata": {},
   "source": [
    "## Problem Statment"
   ]
  },
  {
   "cell_type": "markdown",
   "metadata": {},
   "source": [
    "The aim of the analysis is provideing a descriptive and inferential statistics of the traffic in saudi arabia."
   ]
  },
  {
   "cell_type": "markdown",
   "metadata": {},
   "source": [
    "## Executive Summary"
   ]
  },
  {
   "cell_type": "markdown",
   "metadata": {},
   "source": [
    "In Saudi Arabia, cars are the most widely used transportation. Accordingly, the [general department of traffic in the ministry of interior](https://www.moi.gov.sa/wps/portal/Home/sectors/publicsecurity/traffic/!ut/p/z1/04_iUlDg4tKPAFJABjKBwtGPykssy0xPLMnMz0vM0Y_Qj4wyizfwNDHxMDQx8nZ3CTQ1cAz0dvX3dDE2MnA00vfSj8KvIDg1T78gO1ARAHn-YJg!/) is always striving for making traffic safe by [enhancing the laws](http://live.saudigazette.com.sa/article/164574/New-traffic-laws-in-15-days) and [developing traffic systems](https://www.arabnews.com/node/342925). \n",
    "In this project, I analysied 2 datasets:\n",
    "- [Driving Licenses](https://datasource.kapsarc.org/explore/dataset/saudi-arabia-driving-licenses-issued-in-the-kingdom-2004-2008/information/?disjunctive.administritive_area&sort=time_period&location=5,24.37495,45.08024&basemap=jawg.streets): which contains Saudi Arabia Driving Licenses Issued By Administrative Area for 1993 - 2016. Data from General Authority for Statistics.\n",
    "- [Traffic Accidents and Casualties](https://datasource.kapsarc.org/explore/dataset/saudi-arabia-traffic-accidents-and-casualties-injured-dead-2008/export/?disjunctive.region&disjunctive.indicator&sort=time_period): which contains Saudi Arabia Traffic Accidents and Casualties by Region for 2016. Data from General Authority for Statistics."
   ]
  },
  {
   "cell_type": "markdown",
   "metadata": {},
   "source": [
    "### Contents:\n",
    "- [Datasets Description](#Datasets-Description)\n",
    "- [Data Import & Cleaning](#Data-Import-and-Cleaning)\n",
    "- [Exploratory Data Analysis](#Exploratory-Data-Analysis)\n",
    "- [Data Visualization](#Visualize-the-data)\n",
    "- [Descriptive and Inferential Statistics](#Descriptive-and-Inferential-Statistics)\n",
    "- [Conclusions and Recommendations](#Conclusions-and-Recommendations)"
   ]
  },
  {
   "cell_type": "code",
   "execution_count": 2,
   "metadata": {},
   "outputs": [],
   "source": [
    "from scipy.stats import skew\n",
    "from scipy.stats import ttest_ind\n",
    "\n",
    "import math\n",
    "import numpy as np\n",
    "import pandas as pd\n",
    "import matplotlib.pyplot as plt\n",
    "import seaborn as sns\n",
    "sns.set_style('whitegrid')\n",
    "%matplotlib inline"
   ]
  },
  {
   "cell_type": "markdown",
   "metadata": {},
   "source": [
    "## Datasets Description\n",
    "\n",
    "[Driving Licenses](https://datasource.kapsarc.org/explore/dataset/saudi-arabia-driving-licenses-issued-in-the-kingdom-2004-2008/information/?disjunctive.administritive_area&sort=time_period&location=5,24.37495,45.08024&basemap=jawg.streets)\n",
    "This dataset contains Saudi Arabia Driving Licenses Issued By Administrative Area for 1993 - 2016. Data from General Authority for Statistics . Follow datasource.kapsarc.org for timely data to advance energy economics research.\n",
    "\n",
    "[Traffic Accidents and Casualties](https://datasource.kapsarc.org/explore/dataset/saudi-arabia-traffic-accidents-and-casualties-injured-dead-2008/export/?disjunctive.region&disjunctive.indicator&sort=time_period)\n",
    "This dataset contains Saudi Arabia Traffic Accidents and Casualties by Region for 2016. Data from General Authority for Statistics. Follow datasource.kapsarc.org for timely data to advance energy economics research.\n"
   ]
  },
  {
   "cell_type": "markdown",
   "metadata": {},
   "source": [
    "## Data Import and Cleaning"
   ]
  },
  {
   "cell_type": "code",
   "execution_count": 3,
   "metadata": {},
   "outputs": [],
   "source": [
    "licenses_df = pd.read_csv('../data/saudi-arabia-driving-licenses-2004-2008.csv' , delimiter=';')\n",
    "accidents_df = pd.read_csv('../data/saudi-arabia-traffic-accidents-2008.csv' ,  delimiter=';')"
   ]
  },
  {
   "cell_type": "code",
   "execution_count": 4,
   "metadata": {},
   "outputs": [],
   "source": [
    "licenses_df = licenses_df.drop( 'Unnamed: 0' , axis=1)\n",
    "accidents_df = accidents_df.drop([ 'Unnamed: 0.1' , 'Unnamed: 0' ] , axis=1)"
   ]
  },
  {
   "cell_type": "code",
   "execution_count": 5,
   "metadata": {
    "scrolled": true
   },
   "outputs": [
    {
     "data": {
      "text/html": [
       "<div>\n",
       "<style scoped>\n",
       "    .dataframe tbody tr th:only-of-type {\n",
       "        vertical-align: middle;\n",
       "    }\n",
       "\n",
       "    .dataframe tbody tr th {\n",
       "        vertical-align: top;\n",
       "    }\n",
       "\n",
       "    .dataframe thead th {\n",
       "        text-align: right;\n",
       "    }\n",
       "</style>\n",
       "<table border=\"1\" class=\"dataframe\">\n",
       "  <thead>\n",
       "    <tr style=\"text-align: right;\">\n",
       "      <th></th>\n",
       "      <th>Year</th>\n",
       "      <th>Administritive Area</th>\n",
       "      <th>Driving Liceses</th>\n",
       "      <th>geo_point_2d</th>\n",
       "    </tr>\n",
       "  </thead>\n",
       "  <tbody>\n",
       "    <tr>\n",
       "      <th>0</th>\n",
       "      <td>(2012)</td>\n",
       "      <td>Makkah</td>\n",
       "      <td>143954n</td>\n",
       "      <td>21.628962766, 41.2636898334</td>\n",
       "    </tr>\n",
       "    <tr>\n",
       "      <th>1</th>\n",
       "      <td>(1994)</td>\n",
       "      <td>Makkah</td>\n",
       "      <td>75349n</td>\n",
       "      <td>21.628962766, 41.2636898334</td>\n",
       "    </tr>\n",
       "    <tr>\n",
       "      <th>2</th>\n",
       "      <td>(1998)</td>\n",
       "      <td>Makkah</td>\n",
       "      <td>86082n</td>\n",
       "      <td>21.628962766, 41.2636898334</td>\n",
       "    </tr>\n",
       "    <tr>\n",
       "      <th>3</th>\n",
       "      <td>(2004)</td>\n",
       "      <td>Makkah</td>\n",
       "      <td>86636n</td>\n",
       "      <td>21.628962766, 41.2636898334</td>\n",
       "    </tr>\n",
       "    <tr>\n",
       "      <th>4</th>\n",
       "      <td>(2005)</td>\n",
       "      <td>Makkah</td>\n",
       "      <td>65099n</td>\n",
       "      <td>21.628962766, 41.2636898334</td>\n",
       "    </tr>\n",
       "  </tbody>\n",
       "</table>\n",
       "</div>"
      ],
      "text/plain": [
       "     Year Administritive Area Driving Liceses                 geo_point_2d\n",
       "0  (2012)              Makkah         143954n  21.628962766, 41.2636898334\n",
       "1  (1994)              Makkah          75349n  21.628962766, 41.2636898334\n",
       "2  (1998)              Makkah          86082n  21.628962766, 41.2636898334\n",
       "3  (2004)              Makkah          86636n  21.628962766, 41.2636898334\n",
       "4  (2005)              Makkah          65099n  21.628962766, 41.2636898334"
      ]
     },
     "execution_count": 5,
     "metadata": {},
     "output_type": "execute_result"
    }
   ],
   "source": [
    "licenses_df.head(5)"
   ]
  },
  {
   "cell_type": "code",
   "execution_count": 6,
   "metadata": {
    "scrolled": true
   },
   "outputs": [
    {
     "data": {
      "text/html": [
       "<div>\n",
       "<style scoped>\n",
       "    .dataframe tbody tr th:only-of-type {\n",
       "        vertical-align: middle;\n",
       "    }\n",
       "\n",
       "    .dataframe tbody tr th {\n",
       "        vertical-align: top;\n",
       "    }\n",
       "\n",
       "    .dataframe thead th {\n",
       "        text-align: right;\n",
       "    }\n",
       "</style>\n",
       "<table border=\"1\" class=\"dataframe\">\n",
       "  <thead>\n",
       "    <tr style=\"text-align: right;\">\n",
       "      <th></th>\n",
       "      <th>Year</th>\n",
       "      <th>Region</th>\n",
       "      <th>Indicator</th>\n",
       "      <th>Value</th>\n",
       "      <th>geo_point_2d</th>\n",
       "    </tr>\n",
       "  </thead>\n",
       "  <tbody>\n",
       "    <tr>\n",
       "      <th>0</th>\n",
       "      <td>(2016)</td>\n",
       "      <td>Makkah</td>\n",
       "      <td>No. of Casualties - Injured</td>\n",
       "      <td>12383n</td>\n",
       "      <td>21.628962766, 41.2636898334</td>\n",
       "    </tr>\n",
       "    <tr>\n",
       "      <th>1</th>\n",
       "      <td>(2016)</td>\n",
       "      <td>Eastern Region</td>\n",
       "      <td>No. of Casualties - Dead</td>\n",
       "      <td>1113n</td>\n",
       "      <td>23.2883307307, 50.1478302439</td>\n",
       "    </tr>\n",
       "    <tr>\n",
       "      <th>2</th>\n",
       "      <td>(2016)</td>\n",
       "      <td>Tabouk</td>\n",
       "      <td>No. of Casualties - Dead</td>\n",
       "      <td>434n</td>\n",
       "      <td>27.90165499, 37.2598581394</td>\n",
       "    </tr>\n",
       "    <tr>\n",
       "      <th>3</th>\n",
       "      <td>(2016)</td>\n",
       "      <td>Hail</td>\n",
       "      <td>No. of Casualties - Dead</td>\n",
       "      <td>299n</td>\n",
       "      <td>27.400845724, 41.4406960508</td>\n",
       "    </tr>\n",
       "    <tr>\n",
       "      <th>4</th>\n",
       "      <td>(2016)</td>\n",
       "      <td>Hail</td>\n",
       "      <td>No. of Accidents</td>\n",
       "      <td>10199n</td>\n",
       "      <td>27.400845724, 41.4406960508</td>\n",
       "    </tr>\n",
       "  </tbody>\n",
       "</table>\n",
       "</div>"
      ],
      "text/plain": [
       "     Year          Region                    Indicator   Value  \\\n",
       "0  (2016)          Makkah  No. of Casualties - Injured  12383n   \n",
       "1  (2016)  Eastern Region     No. of Casualties - Dead   1113n   \n",
       "2  (2016)          Tabouk     No. of Casualties - Dead    434n   \n",
       "3  (2016)            Hail     No. of Casualties - Dead    299n   \n",
       "4  (2016)            Hail             No. of Accidents  10199n   \n",
       "\n",
       "                   geo_point_2d  \n",
       "0   21.628962766, 41.2636898334  \n",
       "1  23.2883307307, 50.1478302439  \n",
       "2    27.90165499, 37.2598581394  \n",
       "3   27.400845724, 41.4406960508  \n",
       "4   27.400845724, 41.4406960508  "
      ]
     },
     "execution_count": 6,
     "metadata": {},
     "output_type": "execute_result"
    }
   ],
   "source": [
    "accidents_df.head(5)"
   ]
  },
  {
   "cell_type": "markdown",
   "metadata": {},
   "source": [
    "\n",
    "|Feature|Type|Dataset|Description|\n",
    "|---|---|---|---|\n",
    "|**year**|*int*|Driving_Licenses/Traffic_Accidents|When does the license issued/ the accidents happen|\n",
    "|**region**|*object*|Driving_Licenses/Traffic_Accidents|Where does the license issued/ the accidents happen| \n",
    "|**driving_liceses**|*int*|Driving_Licenses|The numbers of driving licenses|\n",
    "|**geo_point_2d**|*object*|Driving_Licenses/Traffic_Accidents|Coordinates of the location| \n",
    "|**x**|*float*|Driving_Licenses/Traffic_Accidents|The first element of the location's coordinates| \n",
    "|**y**|*float*|Driving_Licenses/Traffic_Accidents|The second element of the location's coordinates|\n",
    "|**indicator**|*object*|Traffic_Accidents|Type of the accident|\n",
    "|**value**|*int*|Traffic_Accidents|The number of the accidents|"
   ]
  },
  {
   "cell_type": "code",
   "execution_count": 7,
   "metadata": {},
   "outputs": [
    {
     "data": {
      "text/plain": [
       "Year                    0\n",
       "Administritive Area     0\n",
       "Driving Liceses         0\n",
       "geo_point_2d           25\n",
       "dtype: int64"
      ]
     },
     "execution_count": 7,
     "metadata": {},
     "output_type": "execute_result"
    }
   ],
   "source": [
    "licenses_df.isna().sum()"
   ]
  },
  {
   "cell_type": "code",
   "execution_count": 8,
   "metadata": {},
   "outputs": [
    {
     "data": {
      "text/plain": [
       "Year            0\n",
       "Region          0\n",
       "Indicator       0\n",
       "Value           0\n",
       "geo_point_2d    6\n",
       "dtype: int64"
      ]
     },
     "execution_count": 8,
     "metadata": {},
     "output_type": "execute_result"
    }
   ],
   "source": [
    "accidents_df.isna().sum()"
   ]
  },
  {
   "cell_type": "code",
   "execution_count": 9,
   "metadata": {},
   "outputs": [
    {
     "data": {
      "text/plain": [
       "Year                    (1993)\n",
       "Administritive Area    Al-Baha\n",
       "Driving Liceses        100291n\n",
       "dtype: object"
      ]
     },
     "execution_count": 9,
     "metadata": {},
     "output_type": "execute_result"
    }
   ],
   "source": [
    "# min of  licenses_df\n",
    "licenses_df.min()"
   ]
  },
  {
   "cell_type": "code",
   "execution_count": 10,
   "metadata": {},
   "outputs": [
    {
     "data": {
      "text/plain": [
       "Year                   (2017)\n",
       "Administritive Area     Total\n",
       "Driving Liceses         9983n\n",
       "dtype: object"
      ]
     },
     "execution_count": 10,
     "metadata": {},
     "output_type": "execute_result"
    }
   ],
   "source": [
    "#max of licenses_df\n",
    "licenses_df.max()"
   ]
  },
  {
   "cell_type": "code",
   "execution_count": 11,
   "metadata": {},
   "outputs": [
    {
     "data": {
      "text/plain": [
       "Year                   (2016)\n",
       "Region               Al-Baaha\n",
       "Indicator    No. of Accidents\n",
       "Value                   1007n\n",
       "dtype: object"
      ]
     },
     "execution_count": 11,
     "metadata": {},
     "output_type": "execute_result"
    }
   ],
   "source": [
    "# min of  accidents_df\n",
    "accidents_df.min()"
   ]
  },
  {
   "cell_type": "code",
   "execution_count": 12,
   "metadata": {},
   "outputs": [
    {
     "data": {
      "text/plain": [
       "Year                              (2017)\n",
       "Region                             Total\n",
       "Indicator    No. of Casualties - Injured\n",
       "Value                             99925n\n",
       "dtype: object"
      ]
     },
     "execution_count": 12,
     "metadata": {},
     "output_type": "execute_result"
    }
   ],
   "source": [
    "#max of accidents_df\n",
    "accidents_df.max()"
   ]
  },
  {
   "cell_type": "code",
   "execution_count": 13,
   "metadata": {
    "scrolled": true
   },
   "outputs": [
    {
     "data": {
      "text/plain": [
       "(Year                   object\n",
       " Administritive Area    object\n",
       " Driving Liceses        object\n",
       " geo_point_2d           object\n",
       " dtype: object, Year            object\n",
       " Region          object\n",
       " Indicator       object\n",
       " Value           object\n",
       " geo_point_2d    object\n",
       " dtype: object)"
      ]
     },
     "execution_count": 13,
     "metadata": {},
     "output_type": "execute_result"
    }
   ],
   "source": [
    "#code\n",
    "licenses_df.dtypes , accidents_df.dtypes"
   ]
  },
  {
   "cell_type": "code",
   "execution_count": 14,
   "metadata": {},
   "outputs": [
    {
     "data": {
      "text/plain": [
       "str"
      ]
     },
     "execution_count": 14,
     "metadata": {},
     "output_type": "execute_result"
    }
   ],
   "source": [
    "type(licenses_df.geo_point_2d[0])"
   ]
  },
  {
   "cell_type": "code",
   "execution_count": 15,
   "metadata": {
    "scrolled": true
   },
   "outputs": [
    {
     "data": {
      "text/plain": [
       "array(['21.628962766, 41.2636898334', '23.2883307307, 50.1478302439',\n",
       "       '27.90165499, 37.2598581394', '27.400845724, 41.4406960508',\n",
       "       '30.197074783, 41.8171186952', '17.2072313962, 42.6525807422',\n",
       "       '29.9677445762, 39.5570371172', nan,\n",
       "       '20.1484058503, 41.4665484892', '23.0814341634, 45.5857512766',\n",
       "       '24.927534539, 39.4918237173', '26.1967063704, 43.3429998455',\n",
       "       '18.4511003068, 46.8688495726', '19.1387847401, 42.941470036'],\n",
       "      dtype=object)"
      ]
     },
     "execution_count": 15,
     "metadata": {},
     "output_type": "execute_result"
    }
   ],
   "source": [
    "#filling nul value\n",
    "accidents_df.geo_point_2d.unique()"
   ]
  },
  {
   "cell_type": "code",
   "execution_count": 16,
   "metadata": {},
   "outputs": [],
   "source": [
    "licenses_df[\"geo_point_2d\"].fillna(\"0 , 0\", inplace = True)\n",
    "accidents_df[\"geo_point_2d\"].fillna(\"0 , 0\", inplace = True)"
   ]
  },
  {
   "cell_type": "code",
   "execution_count": 19,
   "metadata": {},
   "outputs": [
    {
     "data": {
      "text/html": [
       "<div>\n",
       "<style scoped>\n",
       "    .dataframe tbody tr th:only-of-type {\n",
       "        vertical-align: middle;\n",
       "    }\n",
       "\n",
       "    .dataframe tbody tr th {\n",
       "        vertical-align: top;\n",
       "    }\n",
       "\n",
       "    .dataframe thead th {\n",
       "        text-align: right;\n",
       "    }\n",
       "</style>\n",
       "<table border=\"1\" class=\"dataframe\">\n",
       "  <thead>\n",
       "    <tr style=\"text-align: right;\">\n",
       "      <th></th>\n",
       "      <th>Year</th>\n",
       "      <th>Administritive Area</th>\n",
       "      <th>Driving Liceses</th>\n",
       "      <th>geo_point_2d</th>\n",
       "      <th>x</th>\n",
       "      <th>y</th>\n",
       "    </tr>\n",
       "  </thead>\n",
       "  <tbody>\n",
       "    <tr>\n",
       "      <th>0</th>\n",
       "      <td>(2012)</td>\n",
       "      <td>Makkah</td>\n",
       "      <td>143954n</td>\n",
       "      <td>21.628962766, 41.2636898334</td>\n",
       "      <td>21.628962766</td>\n",
       "      <td>41.2636898334</td>\n",
       "    </tr>\n",
       "    <tr>\n",
       "      <th>1</th>\n",
       "      <td>(1994)</td>\n",
       "      <td>Makkah</td>\n",
       "      <td>75349n</td>\n",
       "      <td>21.628962766, 41.2636898334</td>\n",
       "      <td>21.628962766</td>\n",
       "      <td>41.2636898334</td>\n",
       "    </tr>\n",
       "  </tbody>\n",
       "</table>\n",
       "</div>"
      ],
      "text/plain": [
       "     Year Administritive Area Driving Liceses                 geo_point_2d  \\\n",
       "0  (2012)              Makkah         143954n  21.628962766, 41.2636898334   \n",
       "1  (1994)              Makkah          75349n  21.628962766, 41.2636898334   \n",
       "\n",
       "              x               y  \n",
       "0  21.628962766   41.2636898334  \n",
       "1  21.628962766   41.2636898334  "
      ]
     },
     "execution_count": 19,
     "metadata": {},
     "output_type": "execute_result"
    }
   ],
   "source": [
    "licenses_df['x'] = licenses_df.apply( lambda x : str(x['geo_point_2d']).split(',',1)[0] ,axis=1)\n",
    "licenses_df['y'] = licenses_df.apply( lambda x :  str(x['geo_point_2d']).split(',',1)[1] ,axis=1)\n",
    "\n",
    "licenses_df.head(2)"
   ]
  },
  {
   "cell_type": "code",
   "execution_count": 18,
   "metadata": {},
   "outputs": [
    {
     "data": {
      "text/html": [
       "<div>\n",
       "<style scoped>\n",
       "    .dataframe tbody tr th:only-of-type {\n",
       "        vertical-align: middle;\n",
       "    }\n",
       "\n",
       "    .dataframe tbody tr th {\n",
       "        vertical-align: top;\n",
       "    }\n",
       "\n",
       "    .dataframe thead th {\n",
       "        text-align: right;\n",
       "    }\n",
       "</style>\n",
       "<table border=\"1\" class=\"dataframe\">\n",
       "  <thead>\n",
       "    <tr style=\"text-align: right;\">\n",
       "      <th></th>\n",
       "      <th>Year</th>\n",
       "      <th>Region</th>\n",
       "      <th>Indicator</th>\n",
       "      <th>Value</th>\n",
       "      <th>geo_point_2d</th>\n",
       "      <th>x</th>\n",
       "      <th>y</th>\n",
       "    </tr>\n",
       "  </thead>\n",
       "  <tbody>\n",
       "    <tr>\n",
       "      <th>0</th>\n",
       "      <td>(2016)</td>\n",
       "      <td>Makkah</td>\n",
       "      <td>No. of Casualties - Injured</td>\n",
       "      <td>12383n</td>\n",
       "      <td>21.628962766, 41.2636898334</td>\n",
       "      <td>21.628962766</td>\n",
       "      <td>41.2636898334</td>\n",
       "    </tr>\n",
       "    <tr>\n",
       "      <th>1</th>\n",
       "      <td>(2016)</td>\n",
       "      <td>Eastern Region</td>\n",
       "      <td>No. of Casualties - Dead</td>\n",
       "      <td>1113n</td>\n",
       "      <td>23.2883307307, 50.1478302439</td>\n",
       "      <td>23.2883307307</td>\n",
       "      <td>50.1478302439</td>\n",
       "    </tr>\n",
       "  </tbody>\n",
       "</table>\n",
       "</div>"
      ],
      "text/plain": [
       "     Year          Region                    Indicator   Value  \\\n",
       "0  (2016)          Makkah  No. of Casualties - Injured  12383n   \n",
       "1  (2016)  Eastern Region     No. of Casualties - Dead   1113n   \n",
       "\n",
       "                   geo_point_2d              x               y  \n",
       "0   21.628962766, 41.2636898334   21.628962766   41.2636898334  \n",
       "1  23.2883307307, 50.1478302439  23.2883307307   50.1478302439  "
      ]
     },
     "execution_count": 18,
     "metadata": {},
     "output_type": "execute_result"
    }
   ],
   "source": [
    "#code\n",
    "accidents_df['x'] = accidents_df.apply( lambda x : str(x['geo_point_2d']).split(',',1)[0] ,axis=1)\n",
    "accidents_df['y'] = accidents_df.apply( lambda x :  str(x['geo_point_2d']).split(',',1)[1] ,axis=1)\n",
    "\n",
    "accidents_df.head(2)"
   ]
  },
  {
   "cell_type": "code",
   "execution_count": 20,
   "metadata": {},
   "outputs": [],
   "source": [
    "#converting numerical columns to an appropriate numeric type:\n",
    "\n",
    "def converting_numerical(column):\n",
    "    return column.astype(float)"
   ]
  },
  {
   "cell_type": "code",
   "execution_count": 21,
   "metadata": {},
   "outputs": [],
   "source": [
    "licenses_df['x'] = converting_numerical(licenses_df['x'])\n",
    "licenses_df['y'] = converting_numerical(licenses_df['y'])\n",
    "\n",
    "accidents_df['x'] = converting_numerical(accidents_df['x'])\n",
    "accidents_df['y'] = converting_numerical(accidents_df['y'])"
   ]
  },
  {
   "cell_type": "code",
   "execution_count": 22,
   "metadata": {
    "scrolled": true
   },
   "outputs": [],
   "source": [
    "licenses_df['Year'] = licenses_df.apply( lambda x : x[0].replace('(','') ,axis=1)\n",
    "licenses_df['Year'] = licenses_df.apply( lambda x : x[0].replace(')','') ,axis=1)\n",
    "\n",
    "accidents_df['Year'] = accidents_df.apply( lambda x : x[0].replace('(','') ,axis=1)\n",
    "accidents_df['Year'] = accidents_df.apply( lambda x : x[0].replace(')','') ,axis=1)"
   ]
  },
  {
   "cell_type": "code",
   "execution_count": 23,
   "metadata": {},
   "outputs": [],
   "source": [
    "licenses_df['Year'] = converting_numerical(licenses_df['Year'])\n",
    "accidents_df['Year'] = converting_numerical(accidents_df['Year'])"
   ]
  },
  {
   "cell_type": "code",
   "execution_count": 24,
   "metadata": {},
   "outputs": [
    {
     "name": "stdout",
     "output_type": "stream",
     "text": [
      "<class 'pandas.core.frame.DataFrame'>\n",
      "RangeIndex: 84 entries, 0 to 83\n",
      "Data columns (total 7 columns):\n",
      "Year            84 non-null float64\n",
      "Region          84 non-null object\n",
      "Indicator       84 non-null object\n",
      "Value           84 non-null object\n",
      "geo_point_2d    84 non-null object\n",
      "x               84 non-null float64\n",
      "y               84 non-null float64\n",
      "dtypes: float64(3), object(4)\n",
      "memory usage: 4.7+ KB\n",
      "<class 'pandas.core.frame.DataFrame'>\n",
      "RangeIndex: 350 entries, 0 to 349\n",
      "Data columns (total 6 columns):\n",
      "Year                   350 non-null float64\n",
      "Administritive Area    350 non-null object\n",
      "Driving Liceses        350 non-null object\n",
      "geo_point_2d           350 non-null object\n",
      "x                      350 non-null float64\n",
      "y                      350 non-null float64\n",
      "dtypes: float64(3), object(3)\n",
      "memory usage: 16.5+ KB\n"
     ]
    },
    {
     "data": {
      "text/plain": [
       "(None, None)"
      ]
     },
     "execution_count": 24,
     "metadata": {},
     "output_type": "execute_result"
    }
   ],
   "source": [
    "accidents_df.info() , licenses_df.info()"
   ]
  },
  {
   "cell_type": "code",
   "execution_count": 25,
   "metadata": {},
   "outputs": [
    {
     "data": {
      "text/plain": [
       "(Index(['year', 'administritive_area', 'driving_liceses', 'geo_point_2d', 'x',\n",
       "        'y'],\n",
       "       dtype='object'),\n",
       " Index(['year', 'region', 'indicator', 'value', 'geo_point_2d', 'x', 'y'], dtype='object'))"
      ]
     },
     "execution_count": 25,
     "metadata": {},
     "output_type": "execute_result"
    }
   ],
   "source": [
    "#Column names should be all lowercase & #Column names should not contain spaces:\n",
    "licenses_df.columns = [col.replace(' ','_').lower() for col in licenses_df.columns]\n",
    "accidents_df.columns = [col.replace(' ','_').lower() for col in accidents_df.columns]\n",
    "#checking\n",
    "licenses_df.columns  , accidents_df.columns "
   ]
  },
  {
   "cell_type": "code",
   "execution_count": 26,
   "metadata": {},
   "outputs": [
    {
     "data": {
      "text/plain": [
       "(Index(['year', 'region', 'driving_liceses', 'geo_point_2d', 'x', 'y'], dtype='object'),\n",
       " Index(['year', 'region', 'indicator', 'value', 'geo_point_2d', 'x', 'y'], dtype='object'))"
      ]
     },
     "execution_count": 26,
     "metadata": {},
     "output_type": "execute_result"
    }
   ],
   "source": [
    "#Column names should be unique and informative\n",
    "licenses_df.rename({'administritive_area': 'region'}, axis='columns', inplace=True)\n",
    "\n",
    "#checking\n",
    "licenses_df.columns  , accidents_df.columns "
   ]
  },
  {
   "cell_type": "code",
   "execution_count": 27,
   "metadata": {},
   "outputs": [],
   "source": [
    "licenses_df['driving_liceses'] = licenses_df.apply( lambda x : str(x['driving_liceses'].replace('n','')) ,axis=1)\n",
    "licenses_df['driving_liceses'] = converting_numerical(licenses_df['driving_liceses'])"
   ]
  },
  {
   "cell_type": "code",
   "execution_count": 28,
   "metadata": {},
   "outputs": [],
   "source": [
    "accidents_df['value'] = accidents_df.apply( lambda x : str(x['value'].replace('n','')) ,axis=1)\n",
    "accidents_df['value'] = converting_numerical(accidents_df['value'])"
   ]
  },
  {
   "cell_type": "code",
   "execution_count": 29,
   "metadata": {
    "scrolled": true
   },
   "outputs": [
    {
     "data": {
      "text/plain": [
       "(array(['Makkah', 'Madinah', 'Al-Qaseem', 'Eastern', 'Assir', 'Tabouk',\n",
       "        'Hail', 'Northern Boarder', 'Jazan', 'Najran', 'Al-Baha',\n",
       "        'Al-Jouf', 'Total', 'Riyadh'], dtype=object),\n",
       " array(['Makkah', 'Eastern Region', 'Tabouk', 'Hail', 'Northern Boarder',\n",
       "        'Jazan', 'Al-Jouf', 'Total', 'Al-Baaha', 'Riyadh', 'Madinah',\n",
       "        'Qassim', 'Najran', 'Asir'], dtype=object))"
      ]
     },
     "execution_count": 29,
     "metadata": {},
     "output_type": "execute_result"
    }
   ],
   "source": [
    "licenses_df.region.unique() , accidents_df.region.unique()"
   ]
  },
  {
   "cell_type": "code",
   "execution_count": 31,
   "metadata": {},
   "outputs": [],
   "source": [
    "accidents_df = accidents_df.replace({'Qassim': 'Al-Qaseem' , 'Eastern Region' : 'Eastern', 'Al-Baaha' : 'Al-Baha' , 'Asir'  'Assir'})"
   ]
  },
  {
   "cell_type": "code",
   "execution_count": 32,
   "metadata": {},
   "outputs": [
    {
     "data": {
      "text/plain": [
       "(array(['Makkah', 'Madinah', 'Al-Qaseem', 'Eastern', 'Assir', 'Tabouk',\n",
       "        'Hail', 'Northern Boarder', 'Jazan', 'Najran', 'Al-Baha',\n",
       "        'Al-Jouf', 'Total', 'Riyadh'], dtype=object),\n",
       " array(['Makkah', 'Eastern', 'Tabouk', 'Hail', 'Northern Boarder', 'Jazan',\n",
       "        'Al-Jouf', 'Total', 'Al-Baha', 'Riyadh', 'Madinah', 'Al-Qaseem',\n",
       "        'Najran', 'Assir'], dtype=object))"
      ]
     },
     "execution_count": 32,
     "metadata": {},
     "output_type": "execute_result"
    }
   ],
   "source": [
    "licenses_df.region.unique() , accidents_df.region.unique()"
   ]
  },
  {
   "cell_type": "markdown",
   "metadata": {},
   "source": [
    "|Feature|Type|Dataset|Description|\n",
    "|---|---|---|---|\n",
    "|**year**|*int*|Driving_Licenses/Traffic_Accidents|When does the license issued/ the accidents happen|\n",
    "|**region**|*object*|Driving_Licenses/Traffic_Accidents|Where does the license issued/ the accidents happen| \n",
    "|**driving_liceses**|*int*|Driving_Licenses|The numbers of driving licenses|\n",
    "|**geo_point_2d**|*object*|Driving_Licenses/Traffic_Accidents|Coordinates of the location| \n",
    "|**x**|*float*|Driving_Licenses/Traffic_Accidents|The first element of the location's coordinates| \n",
    "|**y**|*float*|Driving_Licenses/Traffic_Accidents|The second element of the location's coordinates|\n",
    "|**indicator**|*object*|Traffic_Accidents|Type of the accident|\n",
    "|**value**|*int*|Traffic_Accidents|The number of the accidents|"
   ]
  },
  {
   "cell_type": "code",
   "execution_count": 33,
   "metadata": {},
   "outputs": [
    {
     "data": {
      "text/plain": [
       "(array(['Makkah', 'Madinah', 'Al-Qaseem', 'Eastern', 'Assir', 'Tabouk',\n",
       "        'Hail', 'Northern Boarder', 'Jazan', 'Najran', 'Al-Baha',\n",
       "        'Al-Jouf', 'Riyadh'], dtype=object),\n",
       " array(['Makkah', 'Eastern', 'Tabouk', 'Hail', 'Northern Boarder', 'Jazan',\n",
       "        'Al-Jouf', 'Al-Baha', 'Riyadh', 'Madinah', 'Al-Qaseem', 'Najran',\n",
       "        'Assir'], dtype=object))"
      ]
     },
     "execution_count": 33,
     "metadata": {},
     "output_type": "execute_result"
    }
   ],
   "source": [
    "licenses_df =licenses_df[licenses_df.region != 'Total']\n",
    "accidents_df =accidents_df[accidents_df.region != 'Total']\n",
    "\n",
    "#checking\n",
    "licenses_df.region.unique() , accidents_df.region.unique()"
   ]
  },
  {
   "cell_type": "code",
   "execution_count": 34,
   "metadata": {},
   "outputs": [
    {
     "data": {
      "text/html": [
       "<div>\n",
       "<style scoped>\n",
       "    .dataframe tbody tr th:only-of-type {\n",
       "        vertical-align: middle;\n",
       "    }\n",
       "\n",
       "    .dataframe tbody tr th {\n",
       "        vertical-align: top;\n",
       "    }\n",
       "\n",
       "    .dataframe thead th {\n",
       "        text-align: right;\n",
       "    }\n",
       "</style>\n",
       "<table border=\"1\" class=\"dataframe\">\n",
       "  <thead>\n",
       "    <tr style=\"text-align: right;\">\n",
       "      <th></th>\n",
       "      <th>year</th>\n",
       "      <th>region</th>\n",
       "      <th>driving_liceses</th>\n",
       "      <th>geo_point_2d</th>\n",
       "      <th>x</th>\n",
       "      <th>y</th>\n",
       "    </tr>\n",
       "  </thead>\n",
       "  <tbody>\n",
       "    <tr>\n",
       "      <th>0</th>\n",
       "      <td>2012.0</td>\n",
       "      <td>Makkah</td>\n",
       "      <td>143954.0</td>\n",
       "      <td>21.628962766, 41.2636898334</td>\n",
       "      <td>21.628963</td>\n",
       "      <td>41.26369</td>\n",
       "    </tr>\n",
       "    <tr>\n",
       "      <th>1</th>\n",
       "      <td>1994.0</td>\n",
       "      <td>Makkah</td>\n",
       "      <td>75349.0</td>\n",
       "      <td>21.628962766, 41.2636898334</td>\n",
       "      <td>21.628963</td>\n",
       "      <td>41.26369</td>\n",
       "    </tr>\n",
       "  </tbody>\n",
       "</table>\n",
       "</div>"
      ],
      "text/plain": [
       "     year  region  driving_liceses                 geo_point_2d          x  \\\n",
       "0  2012.0  Makkah         143954.0  21.628962766, 41.2636898334  21.628963   \n",
       "1  1994.0  Makkah          75349.0  21.628962766, 41.2636898334  21.628963   \n",
       "\n",
       "          y  \n",
       "0  41.26369  \n",
       "1  41.26369  "
      ]
     },
     "execution_count": 34,
     "metadata": {},
     "output_type": "execute_result"
    }
   ],
   "source": [
    "licenses_df.head(2)"
   ]
  },
  {
   "cell_type": "code",
   "execution_count": 35,
   "metadata": {
    "scrolled": true
   },
   "outputs": [
    {
     "data": {
      "text/html": [
       "<div>\n",
       "<style scoped>\n",
       "    .dataframe tbody tr th:only-of-type {\n",
       "        vertical-align: middle;\n",
       "    }\n",
       "\n",
       "    .dataframe tbody tr th {\n",
       "        vertical-align: top;\n",
       "    }\n",
       "\n",
       "    .dataframe thead th {\n",
       "        text-align: right;\n",
       "    }\n",
       "</style>\n",
       "<table border=\"1\" class=\"dataframe\">\n",
       "  <thead>\n",
       "    <tr style=\"text-align: right;\">\n",
       "      <th></th>\n",
       "      <th>year</th>\n",
       "      <th>region</th>\n",
       "      <th>indicator</th>\n",
       "      <th>value</th>\n",
       "      <th>geo_point_2d</th>\n",
       "      <th>x</th>\n",
       "      <th>y</th>\n",
       "    </tr>\n",
       "  </thead>\n",
       "  <tbody>\n",
       "    <tr>\n",
       "      <th>0</th>\n",
       "      <td>2016.0</td>\n",
       "      <td>Makkah</td>\n",
       "      <td>No. of Casualties - Injured</td>\n",
       "      <td>12383.0</td>\n",
       "      <td>21.628962766, 41.2636898334</td>\n",
       "      <td>21.628963</td>\n",
       "      <td>41.26369</td>\n",
       "    </tr>\n",
       "    <tr>\n",
       "      <th>1</th>\n",
       "      <td>2016.0</td>\n",
       "      <td>Eastern</td>\n",
       "      <td>No. of Casualties - Dead</td>\n",
       "      <td>1113.0</td>\n",
       "      <td>23.2883307307, 50.1478302439</td>\n",
       "      <td>23.288331</td>\n",
       "      <td>50.14783</td>\n",
       "    </tr>\n",
       "  </tbody>\n",
       "</table>\n",
       "</div>"
      ],
      "text/plain": [
       "     year   region                    indicator    value  \\\n",
       "0  2016.0   Makkah  No. of Casualties - Injured  12383.0   \n",
       "1  2016.0  Eastern     No. of Casualties - Dead   1113.0   \n",
       "\n",
       "                   geo_point_2d          x         y  \n",
       "0   21.628962766, 41.2636898334  21.628963  41.26369  \n",
       "1  23.2883307307, 50.1478302439  23.288331  50.14783  "
      ]
     },
     "execution_count": 35,
     "metadata": {},
     "output_type": "execute_result"
    }
   ],
   "source": [
    "accidents_df.head(2)"
   ]
  },
  {
   "cell_type": "markdown",
   "metadata": {},
   "source": [
    "License data is in wide format.\n",
    "\n",
    "Accident data is in long format because there is (value) column. Also, it seems in (indicator) there are duplicates variables.\n",
    "\n",
    "I will convert Accident data to wide inorder to merge it with License data."
   ]
  },
  {
   "cell_type": "code",
   "execution_count": 37,
   "metadata": {},
   "outputs": [
    {
     "data": {
      "text/plain": [
       "(78, 7)"
      ]
     },
     "execution_count": 37,
     "metadata": {},
     "output_type": "execute_result"
    }
   ],
   "source": [
    "accidents_df.shape"
   ]
  },
  {
   "cell_type": "code",
   "execution_count": 38,
   "metadata": {},
   "outputs": [
    {
     "data": {
      "text/html": [
       "<div>\n",
       "<style scoped>\n",
       "    .dataframe tbody tr th:only-of-type {\n",
       "        vertical-align: middle;\n",
       "    }\n",
       "\n",
       "    .dataframe tbody tr th {\n",
       "        vertical-align: top;\n",
       "    }\n",
       "\n",
       "    .dataframe thead th {\n",
       "        text-align: right;\n",
       "    }\n",
       "</style>\n",
       "<table border=\"1\" class=\"dataframe\">\n",
       "  <thead>\n",
       "    <tr style=\"text-align: right;\">\n",
       "      <th></th>\n",
       "      <th></th>\n",
       "      <th></th>\n",
       "      <th></th>\n",
       "      <th>indicator</th>\n",
       "      <th>No. of Accidents</th>\n",
       "      <th>No. of Casualties - Dead</th>\n",
       "      <th>No. of Casualties - Injured</th>\n",
       "    </tr>\n",
       "    <tr>\n",
       "      <th>year</th>\n",
       "      <th>region</th>\n",
       "      <th>geo_point_2d</th>\n",
       "      <th>x</th>\n",
       "      <th>y</th>\n",
       "      <th></th>\n",
       "      <th></th>\n",
       "      <th></th>\n",
       "    </tr>\n",
       "  </thead>\n",
       "  <tbody>\n",
       "    <tr>\n",
       "      <th rowspan=\"2\" valign=\"top\">2016.0</th>\n",
       "      <th>Al-Baha</th>\n",
       "      <th>20.1484058503, 41.4665484892</th>\n",
       "      <th>20.148406</th>\n",
       "      <th>41.466548</th>\n",
       "      <td>3618</td>\n",
       "      <td>185</td>\n",
       "      <td>1227</td>\n",
       "    </tr>\n",
       "    <tr>\n",
       "      <th>Al-Jouf</th>\n",
       "      <th>29.9677445762, 39.5570371172</th>\n",
       "      <th>29.967745</th>\n",
       "      <th>39.557037</th>\n",
       "      <td>10212</td>\n",
       "      <td>245</td>\n",
       "      <td>920</td>\n",
       "    </tr>\n",
       "  </tbody>\n",
       "</table>\n",
       "</div>"
      ],
      "text/plain": [
       "indicator                                                        No. of Accidents  \\\n",
       "year   region  geo_point_2d                 x         y                             \n",
       "2016.0 Al-Baha 20.1484058503, 41.4665484892 20.148406 41.466548              3618   \n",
       "       Al-Jouf 29.9677445762, 39.5570371172 29.967745 39.557037             10212   \n",
       "\n",
       "indicator                                                        No. of Casualties - Dead  \\\n",
       "year   region  geo_point_2d                 x         y                                     \n",
       "2016.0 Al-Baha 20.1484058503, 41.4665484892 20.148406 41.466548                       185   \n",
       "       Al-Jouf 29.9677445762, 39.5570371172 29.967745 39.557037                       245   \n",
       "\n",
       "indicator                                                        No. of Casualties - Injured  \n",
       "year   region  geo_point_2d                 x         y                                       \n",
       "2016.0 Al-Baha 20.1484058503, 41.4665484892 20.148406 41.466548                         1227  \n",
       "       Al-Jouf 29.9677445762, 39.5570371172 29.967745 39.557037                          920  "
      ]
     },
     "execution_count": 38,
     "metadata": {},
     "output_type": "execute_result"
    }
   ],
   "source": [
    "#wide format of accidents_df\n",
    "wide_accidents_df = pd.pivot_table(accidents_df, columns=['indicator'], values='value', index=['year','region', 'geo_point_2d' , 'x' , 'y'],\n",
    "                                   fill_value=np.nan)\n",
    "wide_accidents_df.head(2)"
   ]
  },
  {
   "cell_type": "code",
   "execution_count": 39,
   "metadata": {},
   "outputs": [],
   "source": [
    "wide_accidents_df.reset_index(inplace=True)"
   ]
  },
  {
   "cell_type": "code",
   "execution_count": 41,
   "metadata": {},
   "outputs": [],
   "source": [
    "wide_accidents_df['No. of Accidents'] = converting_numerical(wide_accidents_df['No. of Accidents'])\n",
    "wide_accidents_df['No. of Casualties - Dead'] = converting_numerical(wide_accidents_df['No. of Casualties - Dead'])\n",
    "wide_accidents_df['No. of Casualties - Injured'] = converting_numerical(wide_accidents_df['No. of Casualties - Injured'])"
   ]
  },
  {
   "cell_type": "code",
   "execution_count": 44,
   "metadata": {},
   "outputs": [
    {
     "data": {
      "text/html": [
       "<div>\n",
       "<style scoped>\n",
       "    .dataframe tbody tr th:only-of-type {\n",
       "        vertical-align: middle;\n",
       "    }\n",
       "\n",
       "    .dataframe tbody tr th {\n",
       "        vertical-align: top;\n",
       "    }\n",
       "\n",
       "    .dataframe thead th {\n",
       "        text-align: right;\n",
       "    }\n",
       "</style>\n",
       "<table border=\"1\" class=\"dataframe\">\n",
       "  <thead>\n",
       "    <tr style=\"text-align: right;\">\n",
       "      <th></th>\n",
       "      <th>year</th>\n",
       "      <th>region</th>\n",
       "      <th>driving_liceses</th>\n",
       "      <th>geo_point_2d_x</th>\n",
       "      <th>x_x</th>\n",
       "      <th>y_x</th>\n",
       "      <th>geo_point_2d_y</th>\n",
       "      <th>x_y</th>\n",
       "      <th>y_y</th>\n",
       "      <th>No. of Accidents</th>\n",
       "      <th>No. of Casualties - Dead</th>\n",
       "      <th>No. of Casualties - Injured</th>\n",
       "    </tr>\n",
       "  </thead>\n",
       "  <tbody>\n",
       "    <tr>\n",
       "      <th>0</th>\n",
       "      <td>2012.0</td>\n",
       "      <td>Makkah</td>\n",
       "      <td>143954.0</td>\n",
       "      <td>21.628962766, 41.2636898334</td>\n",
       "      <td>21.628963</td>\n",
       "      <td>41.26369</td>\n",
       "      <td>NaN</td>\n",
       "      <td>NaN</td>\n",
       "      <td>NaN</td>\n",
       "      <td>NaN</td>\n",
       "      <td>NaN</td>\n",
       "      <td>NaN</td>\n",
       "    </tr>\n",
       "    <tr>\n",
       "      <th>1</th>\n",
       "      <td>1994.0</td>\n",
       "      <td>Makkah</td>\n",
       "      <td>75349.0</td>\n",
       "      <td>21.628962766, 41.2636898334</td>\n",
       "      <td>21.628963</td>\n",
       "      <td>41.26369</td>\n",
       "      <td>NaN</td>\n",
       "      <td>NaN</td>\n",
       "      <td>NaN</td>\n",
       "      <td>NaN</td>\n",
       "      <td>NaN</td>\n",
       "      <td>NaN</td>\n",
       "    </tr>\n",
       "    <tr>\n",
       "      <th>2</th>\n",
       "      <td>1998.0</td>\n",
       "      <td>Makkah</td>\n",
       "      <td>86082.0</td>\n",
       "      <td>21.628962766, 41.2636898334</td>\n",
       "      <td>21.628963</td>\n",
       "      <td>41.26369</td>\n",
       "      <td>NaN</td>\n",
       "      <td>NaN</td>\n",
       "      <td>NaN</td>\n",
       "      <td>NaN</td>\n",
       "      <td>NaN</td>\n",
       "      <td>NaN</td>\n",
       "    </tr>\n",
       "  </tbody>\n",
       "</table>\n",
       "</div>"
      ],
      "text/plain": [
       "     year  region  driving_liceses               geo_point_2d_x        x_x  \\\n",
       "0  2012.0  Makkah         143954.0  21.628962766, 41.2636898334  21.628963   \n",
       "1  1994.0  Makkah          75349.0  21.628962766, 41.2636898334  21.628963   \n",
       "2  1998.0  Makkah          86082.0  21.628962766, 41.2636898334  21.628963   \n",
       "\n",
       "        y_x geo_point_2d_y  x_y  y_y  No. of Accidents  \\\n",
       "0  41.26369            NaN  NaN  NaN               NaN   \n",
       "1  41.26369            NaN  NaN  NaN               NaN   \n",
       "2  41.26369            NaN  NaN  NaN               NaN   \n",
       "\n",
       "   No. of Casualties - Dead  No. of Casualties - Injured  \n",
       "0                       NaN                          NaN  \n",
       "1                       NaN                          NaN  \n",
       "2                       NaN                          NaN  "
      ]
     },
     "execution_count": 44,
     "metadata": {},
     "output_type": "execute_result"
    }
   ],
   "source": [
    "wide_merged_inner = licenses_df.merge(wide_accidents_df, on=['year','region'] , how='inner')\n",
    "wide_merged = licenses_df.merge(wide_accidents_df, on=['year','region'] , how='outer')\n",
    "#checking\n",
    "wide_merged.head(3)"
   ]
  },
  {
   "cell_type": "code",
   "execution_count": 51,
   "metadata": {},
   "outputs": [],
   "source": [
    "#renaming columns:\n",
    "wide_merged_inner.rename({'x_x': 'x_licenses' , 'y_x': 'y_licenses', 'x_y': 'x_accidents' , 'y_y': 'y_accidents' ,\n",
    "                          'geo_point_2d_x' : 'geo_point_2d_licenses' , 'geo_point_2d_y' : 'geo_point_2d_accidents'}, axis='columns', inplace=True)\n",
    "\n",
    "#renaming columns:\n",
    "wide_merged.rename({'x_x': 'x_licenses' , 'y_x': 'y_licenses', 'x_y': 'x_accidents' , 'y_y': 'y_accidents' ,\n",
    "                          'geo_point_2d_x' : 'geo_point_2d_licenses' , 'geo_point_2d_y' : 'geo_point_2d_accidents'}, axis='columns', inplace=True)"
   ]
  },
  {
   "cell_type": "code",
   "execution_count": 52,
   "metadata": {},
   "outputs": [],
   "source": [
    "wide_merged.fillna(0, inplace=True)"
   ]
  },
  {
   "cell_type": "code",
   "execution_count": 53,
   "metadata": {},
   "outputs": [
    {
     "data": {
      "text/html": [
       "<div>\n",
       "<style scoped>\n",
       "    .dataframe tbody tr th:only-of-type {\n",
       "        vertical-align: middle;\n",
       "    }\n",
       "\n",
       "    .dataframe tbody tr th {\n",
       "        vertical-align: top;\n",
       "    }\n",
       "\n",
       "    .dataframe thead th {\n",
       "        text-align: right;\n",
       "    }\n",
       "</style>\n",
       "<table border=\"1\" class=\"dataframe\">\n",
       "  <thead>\n",
       "    <tr style=\"text-align: right;\">\n",
       "      <th></th>\n",
       "      <th>year</th>\n",
       "      <th>region</th>\n",
       "      <th>driving_liceses</th>\n",
       "      <th>geo_point_2d_licenses</th>\n",
       "      <th>x_licenses</th>\n",
       "      <th>y_licenses</th>\n",
       "      <th>geo_point_2d_accidents</th>\n",
       "      <th>x_accidents</th>\n",
       "      <th>y_accidents</th>\n",
       "      <th>No. of Accidents</th>\n",
       "      <th>No. of Casualties - Dead</th>\n",
       "      <th>No. of Casualties - Injured</th>\n",
       "    </tr>\n",
       "  </thead>\n",
       "  <tbody>\n",
       "    <tr>\n",
       "      <th>0</th>\n",
       "      <td>2012.0</td>\n",
       "      <td>Makkah</td>\n",
       "      <td>143954.0</td>\n",
       "      <td>21.628962766, 41.2636898334</td>\n",
       "      <td>21.628963</td>\n",
       "      <td>41.26369</td>\n",
       "      <td>0</td>\n",
       "      <td>0.0</td>\n",
       "      <td>0.0</td>\n",
       "      <td>0.0</td>\n",
       "      <td>0.0</td>\n",
       "      <td>0.0</td>\n",
       "    </tr>\n",
       "    <tr>\n",
       "      <th>1</th>\n",
       "      <td>1994.0</td>\n",
       "      <td>Makkah</td>\n",
       "      <td>75349.0</td>\n",
       "      <td>21.628962766, 41.2636898334</td>\n",
       "      <td>21.628963</td>\n",
       "      <td>41.26369</td>\n",
       "      <td>0</td>\n",
       "      <td>0.0</td>\n",
       "      <td>0.0</td>\n",
       "      <td>0.0</td>\n",
       "      <td>0.0</td>\n",
       "      <td>0.0</td>\n",
       "    </tr>\n",
       "    <tr>\n",
       "      <th>2</th>\n",
       "      <td>1998.0</td>\n",
       "      <td>Makkah</td>\n",
       "      <td>86082.0</td>\n",
       "      <td>21.628962766, 41.2636898334</td>\n",
       "      <td>21.628963</td>\n",
       "      <td>41.26369</td>\n",
       "      <td>0</td>\n",
       "      <td>0.0</td>\n",
       "      <td>0.0</td>\n",
       "      <td>0.0</td>\n",
       "      <td>0.0</td>\n",
       "      <td>0.0</td>\n",
       "    </tr>\n",
       "    <tr>\n",
       "      <th>3</th>\n",
       "      <td>2004.0</td>\n",
       "      <td>Makkah</td>\n",
       "      <td>86636.0</td>\n",
       "      <td>21.628962766, 41.2636898334</td>\n",
       "      <td>21.628963</td>\n",
       "      <td>41.26369</td>\n",
       "      <td>0</td>\n",
       "      <td>0.0</td>\n",
       "      <td>0.0</td>\n",
       "      <td>0.0</td>\n",
       "      <td>0.0</td>\n",
       "      <td>0.0</td>\n",
       "    </tr>\n",
       "    <tr>\n",
       "      <th>4</th>\n",
       "      <td>2005.0</td>\n",
       "      <td>Makkah</td>\n",
       "      <td>65099.0</td>\n",
       "      <td>21.628962766, 41.2636898334</td>\n",
       "      <td>21.628963</td>\n",
       "      <td>41.26369</td>\n",
       "      <td>0</td>\n",
       "      <td>0.0</td>\n",
       "      <td>0.0</td>\n",
       "      <td>0.0</td>\n",
       "      <td>0.0</td>\n",
       "      <td>0.0</td>\n",
       "    </tr>\n",
       "  </tbody>\n",
       "</table>\n",
       "</div>"
      ],
      "text/plain": [
       "     year  region  driving_liceses        geo_point_2d_licenses  x_licenses  \\\n",
       "0  2012.0  Makkah         143954.0  21.628962766, 41.2636898334   21.628963   \n",
       "1  1994.0  Makkah          75349.0  21.628962766, 41.2636898334   21.628963   \n",
       "2  1998.0  Makkah          86082.0  21.628962766, 41.2636898334   21.628963   \n",
       "3  2004.0  Makkah          86636.0  21.628962766, 41.2636898334   21.628963   \n",
       "4  2005.0  Makkah          65099.0  21.628962766, 41.2636898334   21.628963   \n",
       "\n",
       "   y_licenses geo_point_2d_accidents  x_accidents  y_accidents  \\\n",
       "0    41.26369                      0          0.0          0.0   \n",
       "1    41.26369                      0          0.0          0.0   \n",
       "2    41.26369                      0          0.0          0.0   \n",
       "3    41.26369                      0          0.0          0.0   \n",
       "4    41.26369                      0          0.0          0.0   \n",
       "\n",
       "   No. of Accidents  No. of Casualties - Dead  No. of Casualties - Injured  \n",
       "0               0.0                       0.0                          0.0  \n",
       "1               0.0                       0.0                          0.0  \n",
       "2               0.0                       0.0                          0.0  \n",
       "3               0.0                       0.0                          0.0  \n",
       "4               0.0                       0.0                          0.0  "
      ]
     },
     "execution_count": 53,
     "metadata": {},
     "output_type": "execute_result"
    }
   ],
   "source": [
    "wide_merged.head()"
   ]
  },
  {
   "cell_type": "code",
   "execution_count": 54,
   "metadata": {},
   "outputs": [],
   "source": [
    "wide_merged.to_csv('combined_datasets.csv')"
   ]
  },
  {
   "cell_type": "markdown",
   "metadata": {},
   "source": [
    "## Exploratory Data Analysis\n",
    "\n",
    "\n",
    "### Summary Statistics"
   ]
  },
  {
   "cell_type": "code",
   "execution_count": 55,
   "metadata": {},
   "outputs": [
    {
     "data": {
      "text/html": [
       "<div>\n",
       "<style scoped>\n",
       "    .dataframe tbody tr th:only-of-type {\n",
       "        vertical-align: middle;\n",
       "    }\n",
       "\n",
       "    .dataframe tbody tr th {\n",
       "        vertical-align: top;\n",
       "    }\n",
       "\n",
       "    .dataframe thead th {\n",
       "        text-align: right;\n",
       "    }\n",
       "</style>\n",
       "<table border=\"1\" class=\"dataframe\">\n",
       "  <thead>\n",
       "    <tr style=\"text-align: right;\">\n",
       "      <th></th>\n",
       "      <th>count</th>\n",
       "      <th>mean</th>\n",
       "      <th>std</th>\n",
       "      <th>min</th>\n",
       "      <th>25%</th>\n",
       "      <th>50%</th>\n",
       "      <th>75%</th>\n",
       "      <th>max</th>\n",
       "    </tr>\n",
       "  </thead>\n",
       "  <tbody>\n",
       "    <tr>\n",
       "      <th>year</th>\n",
       "      <td>26.0</td>\n",
       "      <td>2016.500000</td>\n",
       "      <td>0.509902</td>\n",
       "      <td>2016.000000</td>\n",
       "      <td>2016.000000</td>\n",
       "      <td>2016.500000</td>\n",
       "      <td>2017.000000</td>\n",
       "      <td>2017.000000</td>\n",
       "    </tr>\n",
       "    <tr>\n",
       "      <th>driving_liceses</th>\n",
       "      <td>26.0</td>\n",
       "      <td>62507.000000</td>\n",
       "      <td>107293.917762</td>\n",
       "      <td>2153.000000</td>\n",
       "      <td>8363.250000</td>\n",
       "      <td>16085.000000</td>\n",
       "      <td>51222.000000</td>\n",
       "      <td>495307.000000</td>\n",
       "    </tr>\n",
       "    <tr>\n",
       "      <th>x_licenses</th>\n",
       "      <td>26.0</td>\n",
       "      <td>23.810447</td>\n",
       "      <td>4.274533</td>\n",
       "      <td>17.207231</td>\n",
       "      <td>20.148406</td>\n",
       "      <td>23.288331</td>\n",
       "      <td>27.400846</td>\n",
       "      <td>30.197075</td>\n",
       "    </tr>\n",
       "    <tr>\n",
       "      <th>y_licenses</th>\n",
       "      <td>26.0</td>\n",
       "      <td>42.602789</td>\n",
       "      <td>3.313532</td>\n",
       "      <td>37.259858</td>\n",
       "      <td>41.263690</td>\n",
       "      <td>41.817119</td>\n",
       "      <td>43.343000</td>\n",
       "      <td>50.147830</td>\n",
       "    </tr>\n",
       "    <tr>\n",
       "      <th>x_accidents</th>\n",
       "      <td>26.0</td>\n",
       "      <td>23.810447</td>\n",
       "      <td>4.274533</td>\n",
       "      <td>17.207231</td>\n",
       "      <td>20.148406</td>\n",
       "      <td>23.288331</td>\n",
       "      <td>27.400846</td>\n",
       "      <td>30.197075</td>\n",
       "    </tr>\n",
       "    <tr>\n",
       "      <th>y_accidents</th>\n",
       "      <td>26.0</td>\n",
       "      <td>42.602789</td>\n",
       "      <td>3.313532</td>\n",
       "      <td>37.259858</td>\n",
       "      <td>41.263690</td>\n",
       "      <td>41.817119</td>\n",
       "      <td>43.343000</td>\n",
       "      <td>50.147830</td>\n",
       "    </tr>\n",
       "    <tr>\n",
       "      <th>No. of Accidents</th>\n",
       "      <td>26.0</td>\n",
       "      <td>38225.692308</td>\n",
       "      <td>46493.705035</td>\n",
       "      <td>1414.000000</td>\n",
       "      <td>10276.250000</td>\n",
       "      <td>16050.500000</td>\n",
       "      <td>30981.250000</td>\n",
       "      <td>145541.000000</td>\n",
       "    </tr>\n",
       "    <tr>\n",
       "      <th>No. of Casualties - Dead</th>\n",
       "      <td>26.0</td>\n",
       "      <td>635.384615</td>\n",
       "      <td>549.783381</td>\n",
       "      <td>112.000000</td>\n",
       "      <td>241.250000</td>\n",
       "      <td>415.500000</td>\n",
       "      <td>929.250000</td>\n",
       "      <td>2243.000000</td>\n",
       "    </tr>\n",
       "    <tr>\n",
       "      <th>No. of Casualties - Injured</th>\n",
       "      <td>26.0</td>\n",
       "      <td>2743.038462</td>\n",
       "      <td>2922.641127</td>\n",
       "      <td>374.000000</td>\n",
       "      <td>923.000000</td>\n",
       "      <td>1618.500000</td>\n",
       "      <td>3784.000000</td>\n",
       "      <td>12383.000000</td>\n",
       "    </tr>\n",
       "  </tbody>\n",
       "</table>\n",
       "</div>"
      ],
      "text/plain": [
       "                             count          mean            std          min  \\\n",
       "year                          26.0   2016.500000       0.509902  2016.000000   \n",
       "driving_liceses               26.0  62507.000000  107293.917762  2153.000000   \n",
       "x_licenses                    26.0     23.810447       4.274533    17.207231   \n",
       "y_licenses                    26.0     42.602789       3.313532    37.259858   \n",
       "x_accidents                   26.0     23.810447       4.274533    17.207231   \n",
       "y_accidents                   26.0     42.602789       3.313532    37.259858   \n",
       "No. of Accidents              26.0  38225.692308   46493.705035  1414.000000   \n",
       "No. of Casualties - Dead      26.0    635.384615     549.783381   112.000000   \n",
       "No. of Casualties - Injured   26.0   2743.038462    2922.641127   374.000000   \n",
       "\n",
       "                                      25%           50%           75%  \\\n",
       "year                          2016.000000   2016.500000   2017.000000   \n",
       "driving_liceses               8363.250000  16085.000000  51222.000000   \n",
       "x_licenses                      20.148406     23.288331     27.400846   \n",
       "y_licenses                      41.263690     41.817119     43.343000   \n",
       "x_accidents                     20.148406     23.288331     27.400846   \n",
       "y_accidents                     41.263690     41.817119     43.343000   \n",
       "No. of Accidents             10276.250000  16050.500000  30981.250000   \n",
       "No. of Casualties - Dead       241.250000    415.500000    929.250000   \n",
       "No. of Casualties - Injured    923.000000   1618.500000   3784.000000   \n",
       "\n",
       "                                       max  \n",
       "year                           2017.000000  \n",
       "driving_liceses              495307.000000  \n",
       "x_licenses                       30.197075  \n",
       "y_licenses                       50.147830  \n",
       "x_accidents                      30.197075  \n",
       "y_accidents                      50.147830  \n",
       "No. of Accidents             145541.000000  \n",
       "No. of Casualties - Dead       2243.000000  \n",
       "No. of Casualties - Injured   12383.000000  "
      ]
     },
     "execution_count": 55,
     "metadata": {},
     "output_type": "execute_result"
    }
   ],
   "source": [
    "wide_merged_inner.describe().transpose()"
   ]
  },
  {
   "cell_type": "markdown",
   "metadata": {},
   "source": [
    "#### Manually calculate standard deviation\n",
    "\n",
    "$$\\sigma = \\sqrt{\\frac{1}{n}\\sum_{i=1}^n(x_i - \\mu)^2}$$"
   ]
  },
  {
   "cell_type": "code",
   "execution_count": 56,
   "metadata": {},
   "outputs": [],
   "source": [
    "def standard_deviation(column):\n",
    "    mean = sum(column) / len(column)\n",
    "    var  = sum( (pow(int(x)-mean,2) for x in column) ) / len(column)\n",
    "    return np.sqrt(var)"
   ]
  },
  {
   "cell_type": "code",
   "execution_count": 57,
   "metadata": {},
   "outputs": [],
   "source": [
    "sd = { coulmn_name : standard_deviation( wide_merged_inner[coulmn_name] ) \n",
    "      for coulmn_name in wide_merged_inner.columns\n",
    "      if isinstance(wide_merged_inner[coulmn_name][0] , float) }"
   ]
  },
  {
   "cell_type": "code",
   "execution_count": 58,
   "metadata": {},
   "outputs": [
    {
     "data": {
      "text/plain": [
       "{'year': 0.5,\n",
       " 'driving_liceses': 105210.34237659337,\n",
       " 'x_licenses': 4.089707967410347,\n",
       " 'y_licenses': 3.28771639372548,\n",
       " 'x_accidents': 4.089707967410347,\n",
       " 'y_accidents': 3.28771639372548,\n",
       " 'No. of Accidents': 45590.82869880505,\n",
       " 'No. of Casualties - Dead': 539.1069593406002,\n",
       " 'No. of Casualties - Injured': 2865.885411322023}"
      ]
     },
     "execution_count": 58,
     "metadata": {},
     "output_type": "execute_result"
    }
   ],
   "source": [
    "sd "
   ]
  },
  {
   "cell_type": "markdown",
   "metadata": {},
   "source": [
    "#### Investigating trends in the data"
   ]
  },
  {
   "cell_type": "markdown",
   "metadata": {},
   "source": [
    "From the table below I investigate:\n",
    "- Makkah, Riyadh, and Eastern are the highest Driving Licenses based on years (1993 - 2017)\n",
    "- Najran, Al-Baha, and Northern Boarder are the lowest Driving Licenses based on years (1993 - 2017)"
   ]
  },
  {
   "cell_type": "code",
   "execution_count": 61,
   "metadata": {},
   "outputs": [
    {
     "data": {
      "text/html": [
       "<div>\n",
       "<style scoped>\n",
       "    .dataframe tbody tr th:only-of-type {\n",
       "        vertical-align: middle;\n",
       "    }\n",
       "\n",
       "    .dataframe tbody tr th {\n",
       "        vertical-align: top;\n",
       "    }\n",
       "\n",
       "    .dataframe thead th {\n",
       "        text-align: right;\n",
       "    }\n",
       "</style>\n",
       "<table border=\"1\" class=\"dataframe\">\n",
       "  <thead>\n",
       "    <tr style=\"text-align: right;\">\n",
       "      <th></th>\n",
       "      <th>driving_liceses</th>\n",
       "    </tr>\n",
       "    <tr>\n",
       "      <th>region</th>\n",
       "      <th></th>\n",
       "    </tr>\n",
       "  </thead>\n",
       "  <tbody>\n",
       "    <tr>\n",
       "      <th>Makkah</th>\n",
       "      <td>2433659.0</td>\n",
       "    </tr>\n",
       "    <tr>\n",
       "      <th>Riyadh</th>\n",
       "      <td>2243304.0</td>\n",
       "    </tr>\n",
       "    <tr>\n",
       "      <th>Eastern</th>\n",
       "      <td>2147243.0</td>\n",
       "    </tr>\n",
       "    <tr>\n",
       "      <th>Al-Qaseem</th>\n",
       "      <td>562292.0</td>\n",
       "    </tr>\n",
       "    <tr>\n",
       "      <th>Assir</th>\n",
       "      <td>490615.0</td>\n",
       "    </tr>\n",
       "    <tr>\n",
       "      <th>Madinah</th>\n",
       "      <td>349084.0</td>\n",
       "    </tr>\n",
       "    <tr>\n",
       "      <th>Hail</th>\n",
       "      <td>257782.0</td>\n",
       "    </tr>\n",
       "    <tr>\n",
       "      <th>Jazan</th>\n",
       "      <td>214066.0</td>\n",
       "    </tr>\n",
       "    <tr>\n",
       "      <th>Tabouk</th>\n",
       "      <td>203849.0</td>\n",
       "    </tr>\n",
       "    <tr>\n",
       "      <th>Al-Jouf</th>\n",
       "      <td>164652.0</td>\n",
       "    </tr>\n",
       "    <tr>\n",
       "      <th>Najran</th>\n",
       "      <td>141494.0</td>\n",
       "    </tr>\n",
       "    <tr>\n",
       "      <th>Al-Baha</th>\n",
       "      <td>117051.0</td>\n",
       "    </tr>\n",
       "    <tr>\n",
       "      <th>Northern Boarder</th>\n",
       "      <td>72397.0</td>\n",
       "    </tr>\n",
       "  </tbody>\n",
       "</table>\n",
       "</div>"
      ],
      "text/plain": [
       "                  driving_liceses\n",
       "region                           \n",
       "Makkah                  2433659.0\n",
       "Riyadh                  2243304.0\n",
       "Eastern                 2147243.0\n",
       "Al-Qaseem                562292.0\n",
       "Assir                    490615.0\n",
       "Madinah                  349084.0\n",
       "Hail                     257782.0\n",
       "Jazan                    214066.0\n",
       "Tabouk                   203849.0\n",
       "Al-Jouf                  164652.0\n",
       "Najran                   141494.0\n",
       "Al-Baha                  117051.0\n",
       "Northern Boarder          72397.0"
      ]
     },
     "execution_count": 61,
     "metadata": {},
     "output_type": "execute_result"
    }
   ],
   "source": [
    "wide_merged.loc[(wide_merged['year'] >= 1993) & (wide_merged['year'] <= 2017)][['region' , 'driving_liceses']].groupby(['region']\n",
    "                                                                                                                      ).sum().sort_values(by=['driving_liceses'], ascending=False)"
   ]
  },
  {
   "cell_type": "markdown",
   "metadata": {},
   "source": [
    "From the table below I investigate: \n",
    "- Makkah, Riyadh, and Eastern are the highest mean Traffic Accidents numbers for years (2016 - 2017)\n",
    "- Hail, Najran, and Al-Baha are the lowest mean Traffic Accidents numbers for years (2016 - 2017)"
   ]
  },
  {
   "cell_type": "code",
   "execution_count": 62,
   "metadata": {},
   "outputs": [
    {
     "data": {
      "text/html": [
       "<div>\n",
       "<style scoped>\n",
       "    .dataframe tbody tr th:only-of-type {\n",
       "        vertical-align: middle;\n",
       "    }\n",
       "\n",
       "    .dataframe tbody tr th {\n",
       "        vertical-align: top;\n",
       "    }\n",
       "\n",
       "    .dataframe thead th {\n",
       "        text-align: right;\n",
       "    }\n",
       "</style>\n",
       "<table border=\"1\" class=\"dataframe\">\n",
       "  <thead>\n",
       "    <tr style=\"text-align: right;\">\n",
       "      <th></th>\n",
       "      <th>No. of Accidents</th>\n",
       "    </tr>\n",
       "    <tr>\n",
       "      <th>region</th>\n",
       "      <th></th>\n",
       "    </tr>\n",
       "  </thead>\n",
       "  <tbody>\n",
       "    <tr>\n",
       "      <th>Makkah</th>\n",
       "      <td>140189.5</td>\n",
       "    </tr>\n",
       "    <tr>\n",
       "      <th>Riyadh</th>\n",
       "      <td>120830.5</td>\n",
       "    </tr>\n",
       "    <tr>\n",
       "      <th>Eastern</th>\n",
       "      <td>91526.0</td>\n",
       "    </tr>\n",
       "    <tr>\n",
       "      <th>Assir</th>\n",
       "      <td>28964.5</td>\n",
       "    </tr>\n",
       "    <tr>\n",
       "      <th>Al-Qaseem</th>\n",
       "      <td>24034.5</td>\n",
       "    </tr>\n",
       "    <tr>\n",
       "      <th>Jazan</th>\n",
       "      <td>24017.0</td>\n",
       "    </tr>\n",
       "    <tr>\n",
       "      <th>Madinah</th>\n",
       "      <td>15272.5</td>\n",
       "    </tr>\n",
       "    <tr>\n",
       "      <th>Tabouk</th>\n",
       "      <td>13872.0</td>\n",
       "    </tr>\n",
       "    <tr>\n",
       "      <th>Northern Boarder</th>\n",
       "      <td>12368.0</td>\n",
       "    </tr>\n",
       "    <tr>\n",
       "      <th>Al-Jouf</th>\n",
       "      <td>10340.5</td>\n",
       "    </tr>\n",
       "    <tr>\n",
       "      <th>Hail</th>\n",
       "      <td>9789.0</td>\n",
       "    </tr>\n",
       "    <tr>\n",
       "      <th>Najran</th>\n",
       "      <td>3214.0</td>\n",
       "    </tr>\n",
       "    <tr>\n",
       "      <th>Al-Baha</th>\n",
       "      <td>2516.0</td>\n",
       "    </tr>\n",
       "  </tbody>\n",
       "</table>\n",
       "</div>"
      ],
      "text/plain": [
       "                  No. of Accidents\n",
       "region                            \n",
       "Makkah                    140189.5\n",
       "Riyadh                    120830.5\n",
       "Eastern                    91526.0\n",
       "Assir                      28964.5\n",
       "Al-Qaseem                  24034.5\n",
       "Jazan                      24017.0\n",
       "Madinah                    15272.5\n",
       "Tabouk                     13872.0\n",
       "Northern Boarder           12368.0\n",
       "Al-Jouf                    10340.5\n",
       "Hail                        9789.0\n",
       "Najran                      3214.0\n",
       "Al-Baha                     2516.0"
      ]
     },
     "execution_count": 62,
     "metadata": {},
     "output_type": "execute_result"
    }
   ],
   "source": [
    "wide_merged.loc[(wide_merged['year'] >= 2016) & (wide_merged['year'] <= 2017)][['region' , 'No. of Accidents']].groupby(['region']\n",
    "                                                                                                                      ).mean().sort_values(by=['No. of Accidents'], ascending=False)"
   ]
  },
  {
   "cell_type": "markdown",
   "metadata": {},
   "source": [
    "geo point that have the most accidents numbers:"
   ]
  },
  {
   "cell_type": "code",
   "execution_count": 67,
   "metadata": {},
   "outputs": [
    {
     "data": {
      "text/html": [
       "<div>\n",
       "<style scoped>\n",
       "    .dataframe tbody tr th:only-of-type {\n",
       "        vertical-align: middle;\n",
       "    }\n",
       "\n",
       "    .dataframe tbody tr th {\n",
       "        vertical-align: top;\n",
       "    }\n",
       "\n",
       "    .dataframe thead th {\n",
       "        text-align: right;\n",
       "    }\n",
       "</style>\n",
       "<table border=\"1\" class=\"dataframe\">\n",
       "  <thead>\n",
       "    <tr style=\"text-align: right;\">\n",
       "      <th></th>\n",
       "      <th>geo_point_2d_accidents</th>\n",
       "      <th>region</th>\n",
       "      <th>No. of Accidents</th>\n",
       "    </tr>\n",
       "  </thead>\n",
       "  <tbody>\n",
       "    <tr>\n",
       "      <th>17</th>\n",
       "      <td>21.628962766, 41.2636898334</td>\n",
       "      <td>Makkah</td>\n",
       "      <td>280379.0</td>\n",
       "    </tr>\n",
       "    <tr>\n",
       "      <th>18</th>\n",
       "      <td>23.0814341634, 45.5857512766</td>\n",
       "      <td>Riyadh</td>\n",
       "      <td>241661.0</td>\n",
       "    </tr>\n",
       "  </tbody>\n",
       "</table>\n",
       "</div>"
      ],
      "text/plain": [
       "          geo_point_2d_accidents  region  No. of Accidents\n",
       "17   21.628962766, 41.2636898334  Makkah          280379.0\n",
       "18  23.0814341634, 45.5857512766  Riyadh          241661.0"
      ]
     },
     "execution_count": 67,
     "metadata": {},
     "output_type": "execute_result"
    }
   ],
   "source": [
    "wide_merged[['geo_point_2d_accidents', 'No. of Accidents' , 'region']].groupby(['geo_point_2d_accidents' , \n",
    "                                                                            'region']).sum().reset_index().sort_values(by=['No. of Accidents'], ascending=False).head(2)"
   ]
  },
  {
   "cell_type": "markdown",
   "metadata": {},
   "source": [
    "## Visualize the data"
   ]
  },
  {
   "cell_type": "code",
   "execution_count": 76,
   "metadata": {},
   "outputs": [],
   "source": [
    "import random\n",
    "colors = ['lightseagreen' , 'teal' , 'skyblue' , 'lightblue' , 'cadetblue']\n",
    "#I will use these colors in visualization below."
   ]
  },
  {
   "cell_type": "code",
   "execution_count": 72,
   "metadata": {},
   "outputs": [
    {
     "data": {
      "image/png": "[encoded data removed]",
      "text/plain": [
       "<Figure size 432x288 with 2 Axes>"
      ]
     },
     "metadata": {
      "needs_background": "light"
     },
     "output_type": "display_data"
    }
   ],
   "source": [
    "ax = plt.axes()\n",
    "sns.heatmap(wide_merged.corr() , cmap=\"YlGnBu\" , ax=ax, vmin=-1)\n",
    "ax.set_title('The correlations between the numeric features')\n",
    "plt.show()"
   ]
  },
  {
   "cell_type": "code",
   "execution_count": 73,
   "metadata": {},
   "outputs": [],
   "source": [
    "def subplot_histograms(dataframe, list_of_columns, list_of_titles, list_of_xlabels):\n",
    "    nrows = int(np.ceil(len(list_of_columns)/2)) # Makes sure you have enough rows\n",
    "    fig , ax = plt.subplots(nrows=nrows , ncols=2 , figsize=(15,5))    # You'll want to specify your figsize\n",
    "    ax = ax.ravel() # Ravel turns a matrix into a vector, which is easier to iterate\n",
    "    for i, column in enumerate(list_of_columns): # Gives us an index value to get into all our lists\n",
    "        ax[i].hist(dataframe[column] , bins=15 , color = random.choice(colors) ) # feel free to add more settings\n",
    "        ax[i].set_title(column)\n",
    "        # Set titles, labels, etc here for each subplot"
   ]
  },
  {
   "cell_type": "code",
   "execution_count": 74,
   "metadata": {},
   "outputs": [],
   "source": [
    "#checking\n",
    "#subplot_histograms(wide_merged , ['year' , 'driving_liceses'] ,  ['year', 'driving_liceses'] ,  ['year' , 'driving_liceses'])"
   ]
  },
  {
   "cell_type": "code",
   "execution_count": 77,
   "metadata": {},
   "outputs": [
    {
     "data": {
      "image/png": "[encoded data removed]",
      "text/plain": [
       "<Figure size 1080x360 with 2 Axes>"
      ]
     },
     "metadata": {
      "needs_background": "light"
     },
     "output_type": "display_data"
    }
   ],
   "source": [
    "# Code\n",
    "subplot_histograms(wide_merged , ['No. of Accidents' , 'driving_liceses'] ,  ['No. of Accidents', 'driving_liceses'] ,\n",
    "                   ['No. of Accidents' , 'driving_liceses'])"
   ]
  },
  {
   "cell_type": "markdown",
   "metadata": {},
   "source": [
    "Driving Licenses vs. Traffic Accidents for 2017"
   ]
  },
  {
   "cell_type": "code",
   "execution_count": 79,
   "metadata": {
    "scrolled": false
   },
   "outputs": [
    {
     "data": {
      "image/png": "[encoded data removed]",
      "text/plain": [
       "<Figure size 720x504 with 1 Axes>"
      ]
     },
     "metadata": {},
     "output_type": "display_data"
    }
   ],
   "source": [
    "#Seaborn \n",
    "sns.set(rc={'figure.figsize':(10,7)})\n",
    "ax = sns.scatterplot(x ='driving_liceses' , y='No. of Accidents' , data= wide_merged.loc[ (wide_merged['year'] == 2017)] , hue='region')\n",
    "ax.legend(loc=\"lower right\")\n",
    "ax.set_title(\"Driving Licenses vs. Traffic Accidents for 2017\");"
   ]
  },
  {
   "cell_type": "markdown",
   "metadata": {},
   "source": [
    "Driving Licenses vs. Traffic Accidents for 2016"
   ]
  },
  {
   "cell_type": "code",
   "execution_count": 80,
   "metadata": {},
   "outputs": [
    {
     "data": {
      "image/png": "[encoded data removed]",
      "text/plain": [
       "<Figure size 720x504 with 1 Axes>"
      ]
     },
     "metadata": {},
     "output_type": "display_data"
    }
   ],
   "source": [
    "ax = sns.scatterplot(x ='driving_liceses' , y='No. of Accidents' , data= wide_merged.loc[ (wide_merged['year'] == 2016)] , hue='region')\n",
    "ax.legend(loc=\"lower right\")\n",
    "ax.set_title(\"Driving Licenses vs. Traffic Accidents for 2016\");"
   ]
  },
  {
   "cell_type": "markdown",
   "metadata": {},
   "source": [
    "Driving Licenses for 2016 vs 2017"
   ]
  },
  {
   "cell_type": "code",
   "execution_count": 81,
   "metadata": {},
   "outputs": [
    {
     "data": {
      "image/png": "[encoded data removed]",
      "text/plain": [
       "<Figure size 720x504 with 1 Axes>"
      ]
     },
     "metadata": {},
     "output_type": "display_data"
    }
   ],
   "source": [
    "plt.scatter(wide_merged.loc[ (wide_merged['year'] == 2016)]['driving_liceses'] ,\n",
    "            wide_merged.loc[(wide_merged['year'] == 2017)]['driving_liceses'], c=  random.choice(colors) )\n",
    "plt.title('Driving Licenses for 2016 vs 2017')\n",
    "plt.xlabel('Driving Licenses 2016')\n",
    "plt.ylabel('Driving Licenses 2017');"
   ]
  },
  {
   "cell_type": "markdown",
   "metadata": {},
   "source": [
    "Traffic Accidents for 2016 vs 2017"
   ]
  },
  {
   "cell_type": "code",
   "execution_count": 83,
   "metadata": {},
   "outputs": [
    {
     "data": {
      "image/png": "[encoded data removed]",
      "text/plain": [
       "<Figure size 720x504 with 1 Axes>"
      ]
     },
     "metadata": {},
     "output_type": "display_data"
    }
   ],
   "source": [
    "plt.scatter(wide_merged.loc[ (wide_merged['year'] == 2016)]['No. of Accidents'] ,\n",
    "                            wide_merged.loc[ (wide_merged['year'] == 2017)]['No. of Accidents'], c=  random.choice(colors) )\n",
    "plt.title('Traffic Accidents for 2016 vs 2017')\n",
    "plt.xlabel('Traffic Accidents 2016')\n",
    "plt.ylabel('Traffic Accidents 2017');"
   ]
  },
  {
   "cell_type": "code",
   "execution_count": 93,
   "metadata": {},
   "outputs": [
    {
     "data": {
      "image/png": "[encoded data removed]",
      "text/plain": [
       "<Figure size 432x288 with 1 Axes>"
      ]
     },
     "metadata": {},
     "output_type": "display_data"
    }
   ],
   "source": [
    "sns.set(rc={'figure.figsize':(6,4)})\n",
    "sns.boxplot(data=wide_merged_inner[['x_licenses' , 'x_accidents' ]] , color = random.choice(colors) );\n",
    "#It seems there are no outliers"
   ]
  },
  {
   "cell_type": "code",
   "execution_count": 94,
   "metadata": {},
   "outputs": [
    {
     "data": {
      "image/png": "[encoded data removed]",
      "text/plain": [
       "<Figure size 432x288 with 1 Axes>"
      ]
     },
     "metadata": {},
     "output_type": "display_data"
    }
   ],
   "source": [
    "Y = wide_merged_inner[[ 'y_licenses' , 'y_accidents'  ]]\n",
    "sns.boxplot(data=Y , color = random.choice(colors));\n",
    "#It seems there are outliers."
   ]
  },
  {
   "cell_type": "code",
   "execution_count": 95,
   "metadata": {},
   "outputs": [
    {
     "data": {
      "image/png": "[encoded data removed]",
      "text/plain": [
       "<Figure size 432x288 with 1 Axes>"
      ]
     },
     "metadata": {},
     "output_type": "display_data"
    }
   ],
   "source": [
    "column = wide_merged_inner[['driving_liceses']]\n",
    "sns.boxplot(data=column , color = random.choice(colors));\n",
    "#It seems there are outliers."
   ]
  },
  {
   "cell_type": "code",
   "execution_count": 96,
   "metadata": {},
   "outputs": [
    {
     "data": {
      "image/png": "[encoded data removed]",
      "text/plain": [
       "<Figure size 432x288 with 1 Axes>"
      ]
     },
     "metadata": {},
     "output_type": "display_data"
    }
   ],
   "source": [
    "column = wide_merged_inner[['year']]\n",
    "sns.boxplot(data=column, color = random.choice(colors));\n",
    "#It seems there are no outliers."
   ]
  },
  {
   "cell_type": "code",
   "execution_count": 97,
   "metadata": {},
   "outputs": [
    {
     "data": {
      "image/png": "[encoded data removed]",
      "text/plain": [
       "<Figure size 432x288 with 1 Axes>"
      ]
     },
     "metadata": {},
     "output_type": "display_data"
    }
   ],
   "source": [
    "column = wide_merged_inner[['No. of Accidents']]\n",
    "sns.boxplot(data=column, color = random.choice(colors));\n",
    "#It seems there are outliers."
   ]
  },
  {
   "cell_type": "code",
   "execution_count": 98,
   "metadata": {},
   "outputs": [
    {
     "data": {
      "image/png": "[encoded data removed]",
      "text/plain": [
       "<Figure size 432x288 with 1 Axes>"
      ]
     },
     "metadata": {},
     "output_type": "display_data"
    }
   ],
   "source": [
    "column = wide_merged_inner[['No. of Casualties - Injured']]\n",
    "sns.boxplot(data=column, color = random.choice(colors));\n",
    "#It seems there are outliers."
   ]
  },
  {
   "cell_type": "code",
   "execution_count": 102,
   "metadata": {},
   "outputs": [
    {
     "data": {
      "image/png": "[encoded data removed]",
      "text/plain": [
       "<Figure size 432x288 with 1 Axes>"
      ]
     },
     "metadata": {},
     "output_type": "display_data"
    }
   ],
   "source": [
    "wide_merged[['region' , 'No. of Casualties - Dead' , 'No. of Casualties - Injured']].groupby(['region']).sum().plot(\n",
    "    kind=\"bar\", title='No. of Casualties - Dead vs No. of Casualties - Injured');"
   ]
  },
  {
   "cell_type": "markdown",
   "metadata": {},
   "source": [
    "## Descriptive and Inferential Statistics"
   ]
  },
  {
   "cell_type": "markdown",
   "metadata": {},
   "source": [
    "#### Summarizing Distributions"
   ]
  },
  {
   "cell_type": "code",
   "execution_count": 103,
   "metadata": {},
   "outputs": [
    {
     "data": {
      "text/plain": [
       "year                            2016.500000\n",
       "driving_liceses                62507.000000\n",
       "x_licenses                        23.810447\n",
       "y_licenses                        42.602789\n",
       "x_accidents                       23.810447\n",
       "y_accidents                       42.602789\n",
       "No. of Accidents               38225.692308\n",
       "No. of Casualties - Dead         635.384615\n",
       "No. of Casualties - Injured     2743.038462\n",
       "dtype: float64"
      ]
     },
     "execution_count": 103,
     "metadata": {},
     "output_type": "execute_result"
    }
   ],
   "source": [
    "#central tendency mean, median, mode:\n",
    "wide_merged_inner.mean()"
   ]
  },
  {
   "cell_type": "code",
   "execution_count": 104,
   "metadata": {},
   "outputs": [
    {
     "data": {
      "text/plain": [
       "year                            2016.500000\n",
       "driving_liceses                16085.000000\n",
       "x_licenses                        23.288331\n",
       "y_licenses                        41.817119\n",
       "x_accidents                       23.288331\n",
       "y_accidents                       41.817119\n",
       "No. of Accidents               16050.500000\n",
       "No. of Casualties - Dead         415.500000\n",
       "No. of Casualties - Injured     1618.500000\n",
       "dtype: float64"
      ]
     },
     "execution_count": 104,
     "metadata": {},
     "output_type": "execute_result"
    }
   ],
   "source": [
    "wide_merged_inner.median()"
   ]
  },
  {
   "cell_type": "code",
   "execution_count": 105,
   "metadata": {},
   "outputs": [
    {
     "data": {
      "text/html": [
       "<div>\n",
       "<style scoped>\n",
       "    .dataframe tbody tr th:only-of-type {\n",
       "        vertical-align: middle;\n",
       "    }\n",
       "\n",
       "    .dataframe tbody tr th {\n",
       "        vertical-align: top;\n",
       "    }\n",
       "\n",
       "    .dataframe thead th {\n",
       "        text-align: right;\n",
       "    }\n",
       "</style>\n",
       "<table border=\"1\" class=\"dataframe\">\n",
       "  <thead>\n",
       "    <tr style=\"text-align: right;\">\n",
       "      <th></th>\n",
       "      <th>year</th>\n",
       "      <th>region</th>\n",
       "      <th>driving_liceses</th>\n",
       "      <th>geo_point_2d_licenses</th>\n",
       "      <th>x_licenses</th>\n",
       "      <th>y_licenses</th>\n",
       "      <th>geo_point_2d_accidents</th>\n",
       "      <th>x_accidents</th>\n",
       "      <th>y_accidents</th>\n",
       "      <th>No. of Accidents</th>\n",
       "      <th>No. of Casualties - Dead</th>\n",
       "      <th>No. of Casualties - Injured</th>\n",
       "    </tr>\n",
       "  </thead>\n",
       "  <tbody>\n",
       "    <tr>\n",
       "      <th>0</th>\n",
       "      <td>2016.0</td>\n",
       "      <td>Al-Baha</td>\n",
       "      <td>2153.0</td>\n",
       "      <td>17.2072313962, 42.6525807422</td>\n",
       "      <td>17.207231</td>\n",
       "      <td>37.259858</td>\n",
       "      <td>17.2072313962, 42.6525807422</td>\n",
       "      <td>17.207231</td>\n",
       "      <td>37.259858</td>\n",
       "      <td>1414.0</td>\n",
       "      <td>112.0</td>\n",
       "      <td>374.0</td>\n",
       "    </tr>\n",
       "    <tr>\n",
       "      <th>1</th>\n",
       "      <td>2017.0</td>\n",
       "      <td>Al-Jouf</td>\n",
       "      <td>4131.0</td>\n",
       "      <td>18.4511003068, 46.8688495726</td>\n",
       "      <td>18.451100</td>\n",
       "      <td>39.491824</td>\n",
       "      <td>18.4511003068, 46.8688495726</td>\n",
       "      <td>18.451100</td>\n",
       "      <td>39.491824</td>\n",
       "      <td>3193.0</td>\n",
       "      <td>134.0</td>\n",
       "      <td>631.0</td>\n",
       "    </tr>\n",
       "  </tbody>\n",
       "</table>\n",
       "</div>"
      ],
      "text/plain": [
       "     year   region  driving_liceses         geo_point_2d_licenses  x_licenses  \\\n",
       "0  2016.0  Al-Baha           2153.0  17.2072313962, 42.6525807422   17.207231   \n",
       "1  2017.0  Al-Jouf           4131.0  18.4511003068, 46.8688495726   18.451100   \n",
       "\n",
       "   y_licenses        geo_point_2d_accidents  x_accidents  y_accidents  \\\n",
       "0   37.259858  17.2072313962, 42.6525807422    17.207231    37.259858   \n",
       "1   39.491824  18.4511003068, 46.8688495726    18.451100    39.491824   \n",
       "\n",
       "   No. of Accidents  No. of Casualties - Dead  No. of Casualties - Injured  \n",
       "0            1414.0                     112.0                        374.0  \n",
       "1            3193.0                     134.0                        631.0  "
      ]
     },
     "execution_count": 105,
     "metadata": {},
     "output_type": "execute_result"
    }
   ],
   "source": [
    "wide_merged_inner.mode().head(2)"
   ]
  },
  {
   "cell_type": "code",
   "execution_count": 106,
   "metadata": {
    "scrolled": true
   },
   "outputs": [
    {
     "name": "stdout",
     "output_type": "stream",
     "text": [
      "the values of column year should be between 2016.0 and 2017.0 if we increase / decrease it by 1.0\n",
      "the values of column driving_liceses should be between 8363.25 and 51222.0 if we increase / decrease it by 42858.75\n",
      "the values of column x_licenses should be between 20.1484058503 and 27.400845724 if we increase / decrease it by 7.252439873699998\n",
      "the values of column y_licenses should be between 41.2636898334 and 43.3429998455 if we increase / decrease it by 2.0793100121000023\n",
      "the values of column x_accidents should be between 20.1484058503 and 27.400845724 if we increase / decrease it by 7.252439873699998\n",
      "the values of column y_accidents should be between 41.2636898334 and 43.3429998455 if we increase / decrease it by 2.0793100121000023\n",
      "the values of column No. of Accidents should be between 10276.25 and 30981.25 if we increase / decrease it by 20705.0\n",
      "the values of column No. of Casualties - Dead should be between 241.25 and 929.25 if we increase / decrease it by 688.0\n",
      "the values of column No. of Casualties - Injured should be between 923.0 and 3784.0 if we increase / decrease it by 2861.0\n"
     ]
    }
   ],
   "source": [
    "#spread: IQR, Variance, and Standard Deviation:\n",
    "#IQR\n",
    "for column in wide_merged_inner.columns:\n",
    "    if isinstance(wide_merged[column][0] , float):\n",
    "        q1 = wide_merged_inner[column].quantile(.25)\n",
    "        q3 = wide_merged_inner[column].quantile(.75)\n",
    "        print ('the values of column {} should be between {} and {} if we increase / decrease it by {}'.format(column , q1 , q3 , q3 - q1))\n",
    "        mask = wide_merged_inner[column].between(q1, q3, inclusive=True)\n",
    "        without_outlier = wide_merged_inner.loc[mask]"
   ]
  },
  {
   "cell_type": "code",
   "execution_count": 107,
   "metadata": {
    "scrolled": true
   },
   "outputs": [
    {
     "data": {
      "text/plain": [
       "year                           2.600000e-01\n",
       "driving_liceses                1.151198e+10\n",
       "x_licenses                     1.827163e+01\n",
       "y_licenses                     1.097949e+01\n",
       "x_accidents                    1.827163e+01\n",
       "y_accidents                    1.097949e+01\n",
       "No. of Accidents               2.161665e+09\n",
       "No. of Casualties - Dead       3.022618e+05\n",
       "No. of Casualties - Injured    8.541831e+06\n",
       "dtype: float64"
      ]
     },
     "execution_count": 107,
     "metadata": {},
     "output_type": "execute_result"
    }
   ],
   "source": [
    "wide_merged_inner.var()"
   ]
  },
  {
   "cell_type": "code",
   "execution_count": 108,
   "metadata": {},
   "outputs": [
    {
     "data": {
      "text/plain": [
       "year                                0.509902\n",
       "driving_liceses                107293.917762\n",
       "x_licenses                          4.274533\n",
       "y_licenses                          3.313532\n",
       "x_accidents                         4.274533\n",
       "y_accidents                         3.313532\n",
       "No. of Accidents                46493.705035\n",
       "No. of Casualties - Dead          549.783381\n",
       "No. of Casualties - Injured      2922.641127\n",
       "dtype: float64"
      ]
     },
     "execution_count": 108,
     "metadata": {},
     "output_type": "execute_result"
    }
   ],
   "source": [
    "wide_merged_inner.std()"
   ]
  },
  {
   "cell_type": "code",
   "execution_count": 109,
   "metadata": {},
   "outputs": [
    {
     "data": {
      "image/png": "[encoded data removed]",
      "text/plain": [
       "<Figure size 1440x1080 with 9 Axes>"
      ]
     },
     "metadata": {},
     "output_type": "display_data"
    }
   ],
   "source": [
    "#skeweness\n",
    "wide_merged_inner.hist( figsize = (20,15) , bins = 15 , color=random.choice(colors));"
   ]
  },
  {
   "cell_type": "code",
   "execution_count": 110,
   "metadata": {},
   "outputs": [
    {
     "name": "stdout",
     "output_type": "stream",
     "text": [
      "Since 2016.5 is equal to 2016.5, year is normally distributed\n",
      "Since 62507.0 is greater than 16085.0, driving_liceses is right skewed\n",
      "Since 23.810446995084614 is greater than 23.2883307307, x_licenses is right skewed\n",
      "Since 42.60278875071539 is greater than 41.8171186952, y_licenses is right skewed\n",
      "Since 23.810446995084614 is greater than 23.2883307307, x_accidents is right skewed\n",
      "Since 42.60278875071539 is greater than 41.8171186952, y_accidents is right skewed\n",
      "Since 38225.692307692305 is greater than 16050.5, No. of Accidents is right skewed\n",
      "Since 635.3846153846154 is greater than 415.5, No. of Casualties - Dead is right skewed\n",
      "Since 2743.0384615384614 is greater than 1618.5, No. of Casualties - Injured is right skewed\n"
     ]
    }
   ],
   "source": [
    "for column in wide_merged_inner.columns:\n",
    "    if isinstance(wide_merged_inner[column][0] , float):\n",
    "        if wide_merged_inner[column].mean() < wide_merged_inner[column].median():\n",
    "            print ('Since {} is less than {}, {} is left skewed'.\n",
    "                   format(wide_merged_inner[column].mean() , wide_merged_inner[column].median() ,  column))\n",
    "        elif wide_merged_inner[column].mean() > wide_merged_inner[column].median():\n",
    "            print ('Since {} is greater than {}, {} is right skewed'.\n",
    "                   format(wide_merged_inner[column].mean() , wide_merged_inner[column].median() ,  column))\n",
    "        elif wide_merged_inner[column].mean() == wide_merged_inner[column].median():\n",
    "            print ('Since {} is equal to {}, {} is normally distributed'.\n",
    "                   format(wide_merged_inner[column].mean() , wide_merged_inner[column].median() ,  column))"
   ]
  },
  {
   "cell_type": "code",
   "execution_count": 111,
   "metadata": {},
   "outputs": [
    {
     "name": "stdout",
     "output_type": "stream",
     "text": [
      "Since the skewness is equal to 0, year is normally skewed\n",
      "Since the skewness is greater than 0, driving_liceses is right skewed\n",
      "Since the skewness is greater than 0, x_licenses is right skewed\n",
      "Since the skewness is greater than 0, y_licenses is right skewed\n",
      "Since the skewness is greater than 0, x_accidents is right skewed\n",
      "Since the skewness is greater than 0, y_accidents is right skewed\n",
      "Since the skewness is greater than 0, No. of Accidents is right skewed\n",
      "Since the skewness is greater than 0, No. of Casualties - Dead is right skewed\n",
      "Since the skewness is greater than 0, No. of Casualties - Injured is right skewed\n"
     ]
    }
   ],
   "source": [
    "for column in wide_merged_inner.columns:\n",
    "    if isinstance(wide_merged_inner[column][0] , float):\n",
    "        if skew(wide_merged_inner[column]) > 0:\n",
    "            print ('Since the skewness is greater than 0, {} is right skewed'.format(column))\n",
    "        elif skew(wide_merged_inner[column]) < 0:\n",
    "            print ('Since the skewness is less than 0, {} is left skewed'.format(column))\n",
    "        elif skew(wide_merged_inner[column]) == 0:\n",
    "            print ('Since the skewness is equal to 0, {} is normally skewed'.format(column))"
   ]
  },
  {
   "cell_type": "markdown",
   "metadata": {},
   "source": [
    "## Conclusions and Recommendations"
   ]
  },
  {
   "cell_type": "markdown",
   "metadata": {},
   "source": [
    "Conclusions:\n",
    "- There is a relation between the number of driving licences and the number of accidents.\n",
    "- Big regions have more accidents.\n",
    "- Number of Injured is less than number of dead in all regions.\n",
    "\n",
    "Recommendations:\n",
    "- Add (Age) to see if there is relation between the age of people and the number of accidents.\n",
    "- Add (gender). It might be helpful in behavioral studies.\n",
    "- Add (date) to see in which month the accidents have been more.\n",
    "- Add (type of injury). Is the injury can be cured?\n",
    "- Add (type of violation) speed exceed or others.\n",
    "\n",
    "Saher traffic system applied in 2010. We can measure how efficient it is by analyzing the data before and after this system."
   ]
  }
 ],
 "metadata": {
  "anaconda-cloud": {},
  "kernelspec": {
   "display_name": "Python 3",
   "language": "python",
   "name": "python3"
  },
  "language_info": {
   "codemirror_mode": {
    "name": "ipython",
    "version": 3
   },
   "file_extension": ".py",
   "mimetype": "text/x-python",
   "name": "python",
   "nbconvert_exporter": "python",
   "pygments_lexer": "ipython3",
   "version": "3.7.6"
  }
 },
 "nbformat": 4,
 "nbformat_minor": 2
}
